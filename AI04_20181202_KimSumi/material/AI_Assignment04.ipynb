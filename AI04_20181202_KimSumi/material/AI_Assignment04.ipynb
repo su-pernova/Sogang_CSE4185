{
 "cells": [
  {
   "cell_type": "code",
   "execution_count": null,
   "metadata": {
    "colab": {
     "base_uri": "https://localhost:8080/"
    },
    "id": "vfNfHIKA7HyO",
    "outputId": "17612486-2bf2-4bf6-b32b-73e49b16b9db"
   },
   "outputs": [],
   "source": [
    "!pip install IPython "
   ]
  },
  {
   "cell_type": "markdown",
   "metadata": {
    "id": "GnIGP3XoPZFa"
   },
   "source": [
    "#### colab에서 실행시 다음 주석문을 풀어 실행시킨다."
   ]
  },
  {
   "cell_type": "code",
   "execution_count": null,
   "metadata": {
    "id": "XbPDbSM87LbC"
   },
   "outputs": [],
   "source": [
    "\"\"\"\n",
    "from google.colab import drive\n",
    "drive.mount('/gdrive',force_remount=True)\n",
    "\"\"\""
   ]
  },
  {
   "cell_type": "code",
   "execution_count": null,
   "metadata": {
    "id": "HAlPWuWzDNWy"
   },
   "outputs": [],
   "source": [
    "import numpy as np\n",
    "import matplotlib.pyplot as plt\n",
    "import torch\n",
    "from torch.utils.data import Dataset, DataLoader\n",
    "import torch.nn as nn\n",
    "import torch.nn.functional as F\n",
    "from torchvision import transforms,datasets\n",
    "\n",
    "from sklearn.model_selection import train_test_split\n",
    "from copy import deepcopy\n",
    "from IPython.display import Image"
   ]
  },
  {
   "cell_type": "code",
   "execution_count": null,
   "metadata": {
    "colab": {
     "base_uri": "https://localhost:8080/"
    },
    "id": "NhjG0LjaDQlc",
    "outputId": "94c7ba54-3200-403a-edc0-5c824b62cf4c"
   },
   "outputs": [],
   "source": [
    "device=torch.device(\"cuda\" if torch.cuda.is_available() else \"cpu\")\n",
    "\n",
    "print('device_check:',device)"
   ]
  },
  {
   "cell_type": "markdown",
   "metadata": {
    "id": "9-KTU3jv4za0"
   },
   "source": [
    "# Load CIFAR 10 Dataset"
   ]
  },
  {
   "cell_type": "code",
   "execution_count": null,
   "metadata": {
    "colab": {
     "base_uri": "https://localhost:8080/"
    },
    "id": "Zt_T74ZbDVho",
    "outputId": "0d7e6d79-7955-4715-a24a-5eaa3685a136"
   },
   "outputs": [],
   "source": [
    "trainset=datasets.CIFAR10(root = './data', train = True, download = True)\n",
    "testset = datasets.CIFAR10(root = './data', train = False, download = True)\n",
    "\n",
    "X_data, Y_data = trainset.data, np.array(trainset.targets)"
   ]
  },
  {
   "cell_type": "markdown",
   "metadata": {
    "id": "tCBEZ1K3i-Ns"
   },
   "source": [
    "#### sample the dataset"
   ]
  },
  {
   "cell_type": "code",
   "execution_count": null,
   "metadata": {
    "colab": {
     "base_uri": "https://localhost:8080/"
    },
    "id": "rvgseKYMDXXb",
    "outputId": "f9187e3b-1f2b-4e96-d098-1d4d48d99086"
   },
   "outputs": [],
   "source": [
    "shuffle_mask=np.arange(X_data.shape[0])\n",
    "np.random.shuffle(shuffle_mask)\n",
    "\n",
    "X_data= X_data[shuffle_mask]\n",
    "Y_data= Y_data[shuffle_mask]\n",
    "\n",
    "X_train = X_data[:20000]\n",
    "X_test = X_data[20000:24000]\n",
    "Y_train = Y_data[:20000]\n",
    "Y_test = Y_data[20000:24000]\n",
    "\n",
    "\n",
    "X_train, X_valid, Y_train, Y_valid = train_test_split(X_train, Y_train, test_size=0.2)\n",
    "\n",
    "print('----Train data info----')\n",
    "print(X_train.shape)\n",
    "print(Y_train.shape)\n",
    "\n",
    "print('----Validation data info----')\n",
    "print(X_valid.shape)\n",
    "print(Y_valid.shape)\n",
    "\n",
    "print('----Test data info----')\n",
    "print(X_test.shape)\n",
    "print(Y_test.shape)"
   ]
  },
  {
   "cell_type": "markdown",
   "metadata": {
    "id": "3TqPpjf9i-Nt"
   },
   "source": [
    "####  image print"
   ]
  },
  {
   "cell_type": "code",
   "execution_count": null,
   "metadata": {
    "colab": {
     "base_uri": "https://localhost:8080/",
     "height": 338
    },
    "id": "IQ7EIYDHGCPh",
    "outputId": "4730aefc-3a33-40e8-9a68-d6692a604414"
   },
   "outputs": [],
   "source": [
    "### cifar10 이미지 출력 ###\n",
    "\n",
    "sample_X = X_train[:20]\n",
    "sample_Y = Y_train[:20]\n",
    "\n",
    "fig = plt.figure()\n",
    "fig.subplots_adjust(left=0, bottom=0, right=1, top=1, wspace=1, hspace=1)\n",
    "for i in range(20):\n",
    "    subplot = fig.add_subplot(4, 5, i+1)\n",
    "    subplot.set_xticks([])\n",
    "    subplot.set_yticks([])\n",
    "    subplot.set_title('class %d'%sample_Y[i])\n",
    "    subplot.imshow(sample_X[i], cmap=plt.cm.gray_r)\n",
    "plt.show()"
   ]
  },
  {
   "cell_type": "code",
   "execution_count": null,
   "metadata": {
    "id": "wZ1XHH36Ka8d"
   },
   "outputs": [],
   "source": [
    "class Custom_Dataset(Dataset):\n",
    "    def __init__(self, X, y):\n",
    "        self.X=np.transpose(X/255.0,(0,3,1,2))\n",
    "        self.y=y\n",
    "\n",
    "    def __len__(self):\n",
    "        \n",
    "        result=len(self.X)\n",
    "    \n",
    "        return result\n",
    "    \n",
    "    def __getitem__(self, idx):\n",
    "        \n",
    "        result_X=self.X[idx]\n",
    "        result_y=self.y[idx]\n",
    "        return result_X,result_y"
   ]
  },
  {
   "cell_type": "markdown",
   "metadata": {
    "id": "9ugKn24g7HyY"
   },
   "source": [
    "#### [문제 01] Flatten Function(Flatten Layer)\n",
    "\n",
    "Flatten layer는 CNN의 데이터 타입을 Fully Connected Neural Network의 형태로 변경하는 layer이다.\n",
    "flatten 함수를 통해 flatten layer를 구현하시오.\n",
    "(바꾸는 방법은 다양함.) (10점)"
   ]
  },
  {
   "cell_type": "markdown",
   "metadata": {
    "id": "Gz1O6aaZ7HyZ"
   },
   "source": [
    "![nn](img/flatten.png)"
   ]
  },
  {
   "cell_type": "code",
   "execution_count": null,
   "metadata": {
    "id": "gbbTpQee7HyZ"
   },
   "outputs": [],
   "source": [
    "\n",
    "def flatten(x):\n",
    "    data=x.shape[0]\n",
    "    ###################### Write Your Code Here ###################\n",
    "\n",
    "    ###############################################################\n",
    "    return flatten_x\n"
   ]
  },
  {
   "cell_type": "markdown",
   "metadata": {
    "id": "DJaslbGb7HyZ"
   },
   "source": [
    "#### [문제 02] Multi Layer Perceptron(MLP)\n",
    "전체 layer의 개수가 5개 이상 10개 이하인  Multi-layer Perceptron(MLP)를 만드시오. MLP model은 test dataset에 대해 40%     이상의 Test accuracy를 가져야 한다.\n",
    "\n",
    "\n",
    "(단 activation function은 self.activation_func을 사용해야 한다.) \n",
    "\n",
    "(** HINT: pytorch의 nn.Sequential을 찾아보고 사용해볼것.) (25점)"
   ]
  },
  {
   "cell_type": "code",
   "execution_count": null,
   "metadata": {
    "id": "rU04cqIDi-Nw"
   },
   "outputs": [],
   "source": [
    "\n",
    "class MLP(nn.Module):\n",
    "    def __init__(self,input_size,active_func,output_size):\n",
    "        super(MLP,self).__init__()\n",
    "        \n",
    "        self.activation_func=active_func\n",
    "        ######################## Write your Code Here ########################\n",
    "        \n",
    "\n",
    "        \n",
    "        #######################################################################\n",
    "        \n",
    "    def forward(self,x):\n",
    "        x = flatten(x)  # flatten layer: 위에서 정의한 flatten 함수를 먼저 작성해야 한다.\n",
    "        x = self.seq(x) # 입력값이 하나인 것을 생각하고 network를 짜야한다.\n",
    "        return x\n",
    "        "
   ]
  },
  {
   "cell_type": "markdown",
   "metadata": {
    "id": "rbUUugzz7Hya"
   },
   "source": [
    "##### [문제 03] Convolutional Neural Network\n",
    "\n",
    "INPUT(32X32X3) --> CONV1(30X30X12) --> CONV2(28X28X12) --> POOL1(14X14X12) --> CONV3(12X12X24) --> CONV4(10X10X24) --> POOL2(5X5X24) --> FC --> ... -->FC(class num)를 따르는 CNN model을 만드시오.\n",
    "FC층은 2개에서 4개 사이의 층을 가지도록 구성한다.단 Test dataset에 대해 50% 이상의 Test accuracy를 가져야 한다. (30점)\n",
    "(activation function은 self.activation_func을 사용할 것.)\n"
   ]
  },
  {
   "cell_type": "code",
   "execution_count": null,
   "metadata": {
    "id": "XHYS7eJJ7Hya"
   },
   "outputs": [],
   "source": [
    "class CNNModel(nn.Module):\n",
    "    def __init__(self,input_channel,active_func):\n",
    "        super(CNNModel, self).__init__()\n",
    "        \n",
    "        self.activation_func=active_func\n",
    "        ######################## Write your Code Here #########################\n",
    "\n",
    "\n",
    "\n",
    "        \n",
    "        \n",
    "        \n",
    "        #######################################################################\n",
    "\n",
    "    def forward(self, output):\n",
    "        ######################## Write your Code Here #########################\n",
    "\n",
    "\n",
    "        \n",
    "        \n",
    "        \n",
    "        \n",
    "        \n",
    "        \n",
    "        \n",
    "        \n",
    "        \n",
    "        \n",
    "        \n",
    "        #######################################################################\n",
    "\n",
    "\n"
   ]
  },
  {
   "cell_type": "code",
   "execution_count": null,
   "metadata": {
    "id": "il6dLnCzLos3"
   },
   "outputs": [],
   "source": [
    "## train func\n",
    "def train(model, epoches, train_loader, val_loader, optimizer, criteria):\n",
    "    best_score = 0\n",
    "    best_model = None\n",
    "    batch_len = len(train_loader)\n",
    "    val_acc = []\n",
    "    for epoch in range(epoches):\n",
    "        total_loss = 0;train_acc=0.0;correct = 0\n",
    "        for i,data in enumerate(train_loader):\n",
    "            image,label=data\n",
    "            image = torch.tensor(image, device = device)\n",
    "            label = torch.tensor(label, device = device)\n",
    "            model.train() \n",
    "            optimizer.zero_grad() \n",
    "            output=model(image.float())\n",
    "            prediction=output.max(1,keepdim=True)[1]\n",
    "            loss=criteria(output,label.long())\n",
    "            correct += prediction.eq(label.view_as(prediction)).sum().item()\n",
    "            loss.backward() \n",
    "            optimizer.step()\n",
    "            train_accuracy = 100. * correct / len(train_loader.dataset)\n",
    "            \n",
    "            # loss\n",
    "            total_loss+=loss.item()             \n",
    "        \n",
    "            if i % batch_len == batch_len-1:\n",
    "                print('{}th epoch loss:{:.6f} Train Acc:{}'.format(epoch+1,total_loss/batch_len,train_accuracy))\n",
    "\n",
    "                total_loss = 0\n",
    "\n",
    "                val_score = evaluate(model,val_loader)\n",
    "                val_acc.append(val_score)\n",
    "                if val_score>=best_score:\n",
    "                    best_score=val_score \n",
    "                    best_model=deepcopy(model)\n",
    "\n",
    "    return best_model, val_acc\n",
    "\n",
    "## evaluation func\n",
    "def evaluate(model, test_loader):\n",
    "    model.eval()\n",
    "\n",
    "    correct = 0\n",
    "    with torch.no_grad():\n",
    "        for data in test_loader:\n",
    "            image,label=data\n",
    "            image = image.to(device)\n",
    "            label = label.to(device)\n",
    "            output = model(image.float())\n",
    "            prediction = output.max(1, keepdim = True)[1]\n",
    "            correct += prediction.eq(label.view_as(prediction)).sum().item()\n",
    "    \n",
    "    test_accuracy = 100. * correct / len(test_loader.dataset)\n",
    "    \n",
    "    return test_accuracy\n"
   ]
  },
  {
   "cell_type": "code",
   "execution_count": null,
   "metadata": {
    "id": "4X_tSp3Iy3Jg"
   },
   "outputs": [],
   "source": [
    "def choice_activation(name):\n",
    "    if name==\"sigmod\":\n",
    "        function=nn.Sigmoid()\n",
    "    elif name==\"relu\":\n",
    "        function=nn.ReLU()\n",
    "    elif name==\"tanh\":\n",
    "        function=nn.Tanh()\n",
    "    elif name==\"leakyrelu\":\n",
    "        function=nn.LeakyReLU()\n",
    "    return function"
   ]
  },
  {
   "cell_type": "markdown",
   "metadata": {
    "id": "lJuwI_Cp7Hyc"
   },
   "source": [
    "#### [문제 04] Activation Function\n",
    "\n",
    "위에서 정의한 choice_activation()을 통해 4가지 중 하나의 activation function을 선택해 active_function 변수에 저장하고, \n",
    "해당 activation function을 선택한 이유를 보고서에 서술하시오. (5점)"
   ]
  },
  {
   "cell_type": "code",
   "execution_count": null,
   "metadata": {
    "colab": {
     "base_uri": "https://localhost:8080/",
     "height": 1000
    },
    "id": "XK0Jfy9tUIP3",
    "outputId": "16372f13-8420-43c3-fb05-3741d5a8a2a6",
    "scrolled": true
   },
   "outputs": [],
   "source": [
    "# hyperparameter\n",
    "EPOCHS=20\n",
    "LEARNING_RATE=1e-3\n",
    "\n",
    "## 배치 사이즈는 사양에 맞게  변경이 가능하다.\n",
    "###################################\n",
    "BATCH_SIZE=128\n",
    "####################################\n",
    "\n",
    "train_loader = DataLoader(Custom_Dataset(X_train,Y_train), batch_size = BATCH_SIZE)\n",
    "val_loader = DataLoader(Custom_Dataset(X_valid,Y_valid), batch_size = BATCH_SIZE)\n",
    "test_loader = DataLoader(Custom_Dataset(X_test,Y_test), batch_size = BATCH_SIZE)\n",
    "\n",
    "\n",
    "\n",
    "########## Write Your Code Here #########\n",
    "active_function=None\n",
    "#########################################\n",
    "criterion=nn.CrossEntropyLoss()\n",
    "\n",
    "\n",
    "input_channel=X_train.shape[3]\n",
    "input_size=X_train.shape[1]*X_train.shape[2]*X_train.shape[3]\n",
    "output_size=len(np.unique(Y_train))\n",
    "\n",
    "\n",
    "mlp_model=MLP(input_size,active_function,output_size)\n",
    "mlp_model.to(device)\n",
    "mlp_optimizer=torch.optim.Adam(mlp_model.parameters(),lr=LEARNING_RATE)\n",
    "criterion=nn.CrossEntropyLoss() \n",
    "\n",
    "cnn_model=CNNModel(input_channel,active_function)\n",
    "cnn_model.to(device)\n",
    "\n",
    "cnn_optimizer=torch.optim.Adam(cnn_model.parameters(),lr=LEARNING_RATE)\n",
    "\n",
    "\n",
    "# train mlp and test mlp\n",
    "\n",
    "print(\"============== MLP Train Start ================\")\n",
    "best_mlp,mlp_val_acc=train(mlp_model,EPOCHS,train_loader, val_loader,mlp_optimizer,criterion)\n",
    "mlp_acc=evaluate(best_mlp,test_loader)\n",
    "print('----------- MLP Test Result ----------------')\n",
    "print('MLP Test Accuracy:',mlp_acc)\n",
    "\n",
    "\n",
    "# train cnn and test cnn\n",
    "print(\"============== CNN Train Start ================\")\n",
    "best_cnn,cnn_val_acc=train(cnn_model,EPOCHS,train_loader, val_loader,cnn_optimizer,criterion)\n",
    "cnn_acc=evaluate(best_cnn,test_loader)\n",
    "print('----------- CNN Test Result ----------------')\n",
    "print('CNN Test Accuracy:',cnn_acc)\n",
    "\n",
    "\n",
    "### Graph Shows ####\n",
    "\n",
    "plt.rcParams[\"figure.figsize\"]=(10,6)\n",
    "plt.title('[ Validation Accuarcy ]')\n",
    "\n",
    "plt.plot(np.arange(1,len(mlp_val_acc)+1),mlp_val_acc,label='validation',color='darkblue')\n",
    "plt.plot(np.arange(1,len(cnn_val_acc)+1),cnn_val_acc,label='validation',color='darkred')\n",
    "plt.xlim([0,20])\n",
    "plt.legend(['MLP','CNN'])\n",
    "plt.xlabel('Epoch')\n",
    "plt.ylabel('Accuracy (%)')\n",
    "plt.grid(True)\n",
    "plt.show()\n"
   ]
  },
  {
   "cell_type": "code",
   "execution_count": null,
   "metadata": {},
   "outputs": [],
   "source": []
  },
  {
   "cell_type": "code",
   "execution_count": null,
   "metadata": {},
   "outputs": [],
   "source": []
  }
 ],
 "metadata": {
  "accelerator": "GPU",
  "colab": {
   "collapsed_sections": [],
   "name": "AI_Assignment04_문제제발.ipynb",
   "provenance": []
  },
  "kernelspec": {
   "display_name": "Python 3",
   "language": "python",
   "name": "python3"
  },
  "language_info": {
   "codemirror_mode": {
    "name": "ipython",
    "version": 3
   },
   "file_extension": ".py",
   "mimetype": "text/x-python",
   "name": "python",
   "nbconvert_exporter": "python",
   "pygments_lexer": "ipython3",
   "version": "3.7.4"
  }
 },
 "nbformat": 4,
 "nbformat_minor": 1
}
